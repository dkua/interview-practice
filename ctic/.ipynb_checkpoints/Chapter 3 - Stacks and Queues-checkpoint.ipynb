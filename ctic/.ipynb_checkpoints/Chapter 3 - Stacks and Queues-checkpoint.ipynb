{
 "metadata": {
  "name": ""
 },
 "nbformat": 3,
 "nbformat_minor": 0,
 "worksheets": [
  {
   "cells": [
    {
     "cell_type": "markdown",
     "metadata": {},
     "source": [
      "Implement a Stack (FILO)"
     ]
    },
    {
     "cell_type": "code",
     "collapsed": false,
     "input": [
      "class Stack:\n",
      "    def __init__(self):\n",
      "        self.items = []\n",
      "    \n",
      "    def __str__(self):\n",
      "        string = \"\"\n",
      "        if len(self.items) != 0:\n",
      "            for i in xrange(len(self.items)-1, -1, -1):\n",
      "                string += \"{0}\\n\".format(self.items[i])\n",
      "        return string\n",
      "    \n",
      "    def pop(self):\n",
      "        if self.items != []:\n",
      "            return self.items.pop()\n",
      "        else:\n",
      "            return None\n",
      "    \n",
      "    def push(self, item):\n",
      "        self.items.insert(0, item)\n",
      "    \n",
      "    def peek(self):\n",
      "        return self.items[-1]"
     ],
     "language": "python",
     "metadata": {},
     "outputs": [],
     "prompt_number": 46
    },
    {
     "cell_type": "code",
     "collapsed": false,
     "input": [
      "stack = Stack()\n",
      "print(stack)\n",
      "stack.push(1)\n",
      "print(stack)\n",
      "stack.push(2)\n",
      "print(stack)\n",
      "stack.push(3)\n",
      "print(stack)\n",
      "print(\"Peeking at {0}\".format(stack.peek()))\n",
      "print(\"Popped off {0}\".format(stack.pop()))\n",
      "print(stack)"
     ],
     "language": "python",
     "metadata": {},
     "outputs": [
      {
       "output_type": "stream",
       "stream": "stdout",
       "text": [
        "\n",
        "1\n",
        "\n",
        "1\n",
        "2\n",
        "\n",
        "1\n",
        "2\n",
        "3\n",
        "\n",
        "Peeking at 1\n",
        "Popped off 1\n",
        "2\n",
        "3\n",
        "\n"
       ]
      }
     ],
     "prompt_number": 47
    },
    {
     "cell_type": "markdown",
     "metadata": {},
     "source": [
      "Implement a Queue (FIFO)"
     ]
    },
    {
     "cell_type": "code",
     "collapsed": false,
     "input": [
      "class Queue:\n",
      "    def __init__(self):\n",
      "        self.items = []\n",
      "        \n",
      "    def __str__(self):\n",
      "        string = \"\"\n",
      "        for item in self.items:\n",
      "            string += \"{0}\\n\".format(item)\n",
      "        return string\n",
      "    \n",
      "    def enqueue(self, item):\n",
      "        self.items.append(item)\n",
      "    \n",
      "    def dequeue(self):\n",
      "        if self.items != []:\n",
      "            return self.items.pop(0)\n",
      "        else:\n",
      "            return None"
     ],
     "language": "python",
     "metadata": {},
     "outputs": [],
     "prompt_number": 55
    },
    {
     "cell_type": "code",
     "collapsed": false,
     "input": [
      "queue = Queue()\n",
      "print(queue)\n",
      "queue.enqueue(1)\n",
      "print(queue)\n",
      "queue.enqueue(2)\n",
      "print(queue)\n",
      "queue.enqueue(3)\n",
      "print(queue)\n",
      "queue.dequeue()\n",
      "print(queue)"
     ],
     "language": "python",
     "metadata": {},
     "outputs": [
      {
       "output_type": "stream",
       "stream": "stdout",
       "text": [
        "\n",
        "1\n",
        "\n",
        "1\n",
        "2\n",
        "\n",
        "1\n",
        "2\n",
        "3\n",
        "\n",
        "2\n",
        "3\n",
        "\n"
       ]
      }
     ],
     "prompt_number": 56
    },
    {
     "cell_type": "code",
     "collapsed": false,
     "input": [],
     "language": "python",
     "metadata": {},
     "outputs": [],
     "prompt_number": 49
    }
   ],
   "metadata": {}
  }
 ]
}