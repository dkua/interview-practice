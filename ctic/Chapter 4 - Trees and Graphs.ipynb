{
 "metadata": {
  "name": ""
 },
 "nbformat": 3,
 "nbformat_minor": 0,
 "worksheets": [
  {
   "cells": [
    {
     "cell_type": "code",
     "collapsed": false,
     "input": [
      "class Node:\n",
      "    def __init__(self, value=None, left=None, right=None):\n",
      "        self.value = value\n",
      "        self.left = None\n",
      "        self.right = None"
     ],
     "language": "python",
     "metadata": {},
     "outputs": [],
     "prompt_number": 3
    },
    {
     "cell_type": "markdown",
     "metadata": {},
     "source": [
      "Implement a Binary Search Tree"
     ]
    },
    {
     "cell_type": "code",
     "collapsed": false,
     "input": [
      "class BinarySearchTree:\n",
      "    def __init__(self, value=None):\n",
      "        self.root = Node(value)\n",
      "    \n",
      "    def insert(self, root, value):\n",
      "        if root == None:\n",
      "            return Node(value)\n",
      "        if value < root.value:\n",
      "            if root.left == None:\n",
      "                root.left = self.insert(root.left, value)\n",
      "            else:\n",
      "                self.insert(root.left, value)\n",
      "        else:\n",
      "            if root.right == None:\n",
      "                root.right = self.insert(root.right, value)\n",
      "            else:\n",
      "                self.insert(root.right, value)\n",
      "    \n",
      "    def preorder(self, root=None):\n",
      "        \"\"\"Root, Left, Right\"\"\"\n",
      "        if root == None:\n",
      "            root = self.root\n",
      "            return\n",
      "        print(root.value)\n",
      "        self.preorder(root.left)\n",
      "        self.preorder(root.right)\n",
      "    \n",
      "    def inorder(self, root=None):\n",
      "        \"\"\"Left, Root, Right\"\"\"\n",
      "        if root == None:\n",
      "            root = self.root\n",
      "            return\n",
      "        self.inorder(root.left)\n",
      "        print(root.value)\n",
      "        self.inorder(root.right)\n",
      "            \n",
      "    def postorder(self, root=None):\n",
      "        \"\"\"Left, Right, Root\"\"\"\n",
      "        if root == None:\n",
      "            root = self.root\n",
      "            return\n",
      "        self.postorder(root.left)\n",
      "        self.postorder(root.right)\n",
      "        print(root.value)\n",
      "    \n",
      "    def bfs(self, root=None):\n",
      "        if root == None:\n",
      "            root = self.root\n",
      "        queue = []\n",
      "        visited = set()\n",
      "        print(root.value)\n",
      "        visited.add(root)\n",
      "        queue.append(root)\n",
      "        \n",
      "        while len(queue) != 0:\n",
      "            curr = queue.pop(0)\n",
      "            adjacent = [curr.left, curr.right]\n",
      "            for n in adjacent:\n",
      "                if n == None:\n",
      "                    return\n",
      "                if n not in visited:\n",
      "                    print(n.value)\n",
      "                    visited.add(n)\n",
      "                    queue.append(n)"
     ],
     "language": "python",
     "metadata": {},
     "outputs": [],
     "prompt_number": 91
    },
    {
     "cell_type": "code",
     "collapsed": false,
     "input": [
      "b = BinarySearchTree(100)\n",
      "b.insert(b.root, 10)\n",
      "b.insert(b.root, 101)\n",
      "b.insert(b.root, 9)"
     ],
     "language": "python",
     "metadata": {},
     "outputs": [],
     "prompt_number": 92
    },
    {
     "cell_type": "code",
     "collapsed": false,
     "input": [
      "b.preorder(b.root)"
     ],
     "language": "python",
     "metadata": {},
     "outputs": [
      {
       "output_type": "stream",
       "stream": "stdout",
       "text": [
        "100\n",
        "10\n",
        "9\n",
        "101\n"
       ]
      }
     ],
     "prompt_number": 93
    },
    {
     "cell_type": "code",
     "collapsed": false,
     "input": [
      "b.inorder(b.root)"
     ],
     "language": "python",
     "metadata": {},
     "outputs": [
      {
       "output_type": "stream",
       "stream": "stdout",
       "text": [
        "9\n",
        "10\n",
        "100\n",
        "101\n"
       ]
      }
     ],
     "prompt_number": 94
    },
    {
     "cell_type": "code",
     "collapsed": false,
     "input": [
      "b.postorder(b.root)"
     ],
     "language": "python",
     "metadata": {},
     "outputs": [
      {
       "output_type": "stream",
       "stream": "stdout",
       "text": [
        "9\n",
        "10\n",
        "101\n",
        "100\n"
       ]
      }
     ],
     "prompt_number": 95
    },
    {
     "cell_type": "code",
     "collapsed": false,
     "input": [
      "b.bfs()"
     ],
     "language": "python",
     "metadata": {},
     "outputs": [
      {
       "output_type": "stream",
       "stream": "stdout",
       "text": [
        "100\n",
        "10\n",
        "101\n",
        "9\n"
       ]
      }
     ],
     "prompt_number": 96
    },
    {
     "cell_type": "code",
     "collapsed": false,
     "input": [],
     "language": "python",
     "metadata": {},
     "outputs": []
    }
   ],
   "metadata": {}
  }
 ]
}