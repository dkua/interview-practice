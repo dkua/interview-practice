{
 "metadata": {
  "name": ""
 },
 "nbformat": 3,
 "nbformat_minor": 0,
 "worksheets": [
  {
   "cells": [
    {
     "cell_type": "code",
     "collapsed": false,
     "input": [
      "# LinkedList Node\n",
      "class LLNode:\n",
      "    def __init__(self, value):\n",
      "        self.next = None\n",
      "        self.value = value\n",
      "    \n",
      "    def __str__(self):\n",
      "        node = self\n",
      "        string = \"Linked List:\"\n",
      "        while node != None:\n",
      "            string = \"{0} {1}\".format(string, node.value)\n",
      "            node = node.next\n",
      "        return string\n",
      "    \n",
      "    def append(self, value):\n",
      "        node = self\n",
      "        while node.next != None:\n",
      "            node = node.next\n",
      "        node.next = LLNode(value)\n",
      "\n",
      "def delete(head, value):\n",
      "    curr = head\n",
      "    if curr.value == value:\n",
      "        head = curr.next\n",
      "        curr = None\n",
      "        return head\n",
      "    \n",
      "    while curr.next != None:\n",
      "        if curr.next.value == value:\n",
      "            curr.next = curr.next.next\n",
      "            return head\n",
      "        curr = curr.next\n",
      "    return head"
     ],
     "language": "python",
     "metadata": {},
     "outputs": [],
     "prompt_number": 143
    },
    {
     "cell_type": "code",
     "collapsed": false,
     "input": [
      "# Simple LinkedList implementation\n",
      "linked_list = LLNode(1)\n",
      "linked_list.append(2)\n",
      "linked_list.append(3)\n",
      "linked_list.append(2)\n",
      "\n",
      "print(linked_list)\n",
      "delete(linked_list, 2)\n",
      "print(linked_list)"
     ],
     "language": "python",
     "metadata": {},
     "outputs": [
      {
       "output_type": "stream",
       "stream": "stdout",
       "text": [
        "Linked List: 1 2 3 2\n",
        "Linked List: 1 3 2\n"
       ]
      }
     ],
     "prompt_number": 144
    },
    {
     "cell_type": "markdown",
     "metadata": {},
     "source": [
      "**2.1**\n",
      "\n",
      "Write code to remove duplicates from an unsorted linked list.\n",
      "\n",
      "*FOLLOW UP* - How would you solve this problem if a temporary buffer is not allowed?"
     ]
    },
    {
     "cell_type": "code",
     "collapsed": false,
     "input": [
      "def remove_duplicates(linked_list):\n",
      "    nodes_seen = set()\n",
      "    prev = None\n",
      "    curr = linked_list\n",
      "    while curr != None:\n",
      "        if curr.value in nodes_seen:\n",
      "            prev.next = curr.next\n",
      "        else:\n",
      "            nodes_seen.add(curr.value)\n",
      "            prev = curr\n",
      "        curr = curr.next"
     ],
     "language": "python",
     "metadata": {},
     "outputs": [],
     "prompt_number": 145
    },
    {
     "cell_type": "code",
     "collapsed": false,
     "input": [
      "llist = LLNode(1)\n",
      "llist.append(4)\n",
      "llist.append(5)\n",
      "llist.append(5)\n",
      "llist.append(5)\n",
      "llist.append(1)\n",
      "llist.append(6)\n",
      "llist.append(5)\n",
      "llist.append(3)\n",
      "print(llist)\n",
      "remove_duplicates(llist)\n",
      "print(llist)"
     ],
     "language": "python",
     "metadata": {},
     "outputs": [
      {
       "output_type": "stream",
       "stream": "stdout",
       "text": [
        "Linked List: 1 4 5 5 5 1 6 5 3\n",
        "Linked List: 1 4 5 6 3\n"
       ]
      }
     ],
     "prompt_number": 146
    },
    {
     "cell_type": "code",
     "collapsed": false,
     "input": [
      "def remove_duplicates_followup(linked_list):\n",
      "    curr = linked_list\n",
      "    while curr != None:\n",
      "        ahead = curr\n",
      "        while ahead.next != None:\n",
      "            if curr.value == ahead.next.value:\n",
      "                ahead.next = ahead.next.next\n",
      "            else:\n",
      "                ahead = ahead.next\n",
      "        curr = curr.next"
     ],
     "language": "python",
     "metadata": {},
     "outputs": [],
     "prompt_number": 147
    },
    {
     "cell_type": "code",
     "collapsed": false,
     "input": [
      "llist = LLNode(1)\n",
      "llist.append(4)\n",
      "llist.append(5)\n",
      "llist.append(5)\n",
      "llist.append(5)\n",
      "llist.append(1)\n",
      "llist.append(6)\n",
      "llist.append(5)\n",
      "llist.append(3)\n",
      "print(llist)\n",
      "remove_duplicates_followup(llist)\n",
      "print(llist)"
     ],
     "language": "python",
     "metadata": {},
     "outputs": [
      {
       "output_type": "stream",
       "stream": "stdout",
       "text": [
        "Linked List: 1 4 5 5 5 1 6 5 3\n",
        "Linked List: 1 4 5 6 3\n"
       ]
      }
     ],
     "prompt_number": 148
    },
    {
     "cell_type": "markdown",
     "metadata": {},
     "source": [
      "**2.2**\n",
      "\n",
      "Implement an algorithm to find the kth to last element of a singly linked list."
     ]
    },
    {
     "cell_type": "code",
     "collapsed": false,
     "input": [
      "def find_kth_last(linked_list, k):\n",
      "    if k < 0:\n",
      "        return None\n",
      "    curr = linked_list\n",
      "    runner = linked_list.next\n",
      "    for i in range(1, k):\n",
      "        if runner == None:\n",
      "            if i == k:\n",
      "                return curr\n",
      "            else:\n",
      "                return None\n",
      "        runner = runner.next\n",
      "    while runner != None:\n",
      "        curr, runner = curr.next, runner.next\n",
      "    return curr"
     ],
     "language": "python",
     "metadata": {},
     "outputs": [],
     "prompt_number": 149
    },
    {
     "cell_type": "code",
     "collapsed": false,
     "input": [
      "llist = LLNode(1)\n",
      "llist.append(4)\n",
      "llist.append(5)\n",
      "llist.append(5)\n",
      "llist.append(5)\n",
      "llist.append(1)\n",
      "llist.append(6)\n",
      "llist.append(5)\n",
      "llist.append(3)\n",
      "print(llist)\n",
      "node = find_kth_last(llist, 3)\n",
      "print(node)"
     ],
     "language": "python",
     "metadata": {},
     "outputs": [
      {
       "output_type": "stream",
       "stream": "stdout",
       "text": [
        "Linked List: 1 4 5 5 5 1 6 5 3\n",
        "Linked List: 6 5 3\n"
       ]
      }
     ],
     "prompt_number": 150
    },
    {
     "cell_type": "markdown",
     "metadata": {},
     "source": [
      "**2.3**\n",
      "\n",
      "Implement an algorithm to delete a node in the middle of a singly linked list, given only access to that node.\n",
      "\n",
      "*EXAMPLE*\n",
      "\n",
      "Input: the node c from the linked list a->b->c->d->e\n",
      "\n",
      "Result: nothing is returned but the new linked list looks like a->b->d->e"
     ]
    },
    {
     "cell_type": "code",
     "collapsed": false,
     "input": [
      "def remove_from_middle(node):\n",
      "    if (node == None) or (node.next == None):\n",
      "        return False\n",
      "    node.value = node.next.value\n",
      "    node.next = node.next.next"
     ],
     "language": "python",
     "metadata": {},
     "outputs": [],
     "prompt_number": 151
    },
    {
     "cell_type": "code",
     "collapsed": false,
     "input": [
      "llist = LLNode(1)\n",
      "llist.append(4)\n",
      "llist.append(5)\n",
      "llist.append(5)\n",
      "llist.append(5)\n",
      "llist.append(1)\n",
      "llist.append(6)\n",
      "llist.append(5)\n",
      "llist.append(3)\n",
      "print(llist)\n",
      "node = llist.next.next.next.next.next\n",
      "print(node)\n",
      "remove_from_middle(node)\n",
      "print(llist)"
     ],
     "language": "python",
     "metadata": {},
     "outputs": [
      {
       "output_type": "stream",
       "stream": "stdout",
       "text": [
        "Linked List: 1 4 5 5 5 1 6 5 3\n",
        "Linked List: 1 6 5 3\n",
        "Linked List: 1 4 5 5 5 6 5 3\n"
       ]
      }
     ],
     "prompt_number": 152
    }
   ],
   "metadata": {}
  }
 ]
}