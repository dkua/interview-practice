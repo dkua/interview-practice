{
 "metadata": {
  "name": ""
 },
 "nbformat": 3,
 "nbformat_minor": 0,
 "worksheets": [
  {
   "cells": [
    {
     "cell_type": "markdown",
     "metadata": {},
     "source": [
      "Given a list of edges of a graph. Write a function to determine if the graph is bipartite or not."
     ]
    },
    {
     "cell_type": "code",
     "collapsed": false,
     "input": [
      "edges = [(\"v1\", \"v2\"), (\"v3\", \"v4\"), (\"v2\", \"v3\"),  (\"v4\", \"v1\")]\n",
      "\n",
      "class Node:\n",
      "    def __init__(self, value):\n",
      "        self.value = value\n",
      "        self.neighbours = set()\n",
      "    def __str__(self):\n",
      "        return \"Node: {0}\".format(self.value)\n",
      "    def __repr__(self):\n",
      "        return \"Node: {0}\".format(self.value)\n",
      "\n",
      "def graphify(L):\n",
      "    d = dict()\n",
      "    for left, right in L:\n",
      "        if left not in d:\n",
      "            d[left] = Node(left)\n",
      "        if right not in d:\n",
      "            d[right] = Node(right)\n",
      "        d[left].neighbours.add(d[right])\n",
      "        d[right].neighbours.add(d[left])\n",
      "    return d.values()\n",
      "\n",
      "def is_bipartite(G):\n",
      "    nodes = graphify(G)\n",
      "    stack = []\n",
      "    stack.append(nodes[0])\n",
      "    L, R = set(), set()\n",
      "    L.add(nodes[0])\n",
      "    \n",
      "    while len(stack) != 0:\n",
      "        node = stack.pop()\n",
      "        for n in node.neighbours:\n",
      "            if n not in L and n not in R:\n",
      "                if node in L:\n",
      "                    R.add(n)\n",
      "                else:\n",
      "                    L.add(n)\n",
      "                stack.append(n)\n",
      "            if n in L and node in L:\n",
      "                return False\n",
      "            if n in R and node in R:\n",
      "                return False\n",
      "    return True"
     ],
     "language": "python",
     "metadata": {},
     "outputs": [],
     "prompt_number": 80
    },
    {
     "cell_type": "code",
     "collapsed": false,
     "input": [
      "nodes = graphify(edges)\n",
      "for node in nodes:\n",
      "    print node, node.neighbours"
     ],
     "language": "python",
     "metadata": {},
     "outputs": [
      {
       "output_type": "stream",
       "stream": "stdout",
       "text": [
        "Node: v1 set([Node: v4, Node: v2])\n",
        "Node: v2 set([Node: v1, Node: v3])\n",
        "Node: v3 set([Node: v4, Node: v2])\n",
        "Node: v4 set([Node: v1, Node: v3])\n"
       ]
      }
     ],
     "prompt_number": 81
    },
    {
     "cell_type": "code",
     "collapsed": false,
     "input": [
      "print is_bipartite(edges)"
     ],
     "language": "python",
     "metadata": {},
     "outputs": [
      {
       "output_type": "stream",
       "stream": "stdout",
       "text": [
        "True\n"
       ]
      }
     ],
     "prompt_number": 82
    },
    {
     "cell_type": "code",
     "collapsed": false,
     "input": [
      "edges2 = [(\"v1\", \"v2\"), (\"v2\", \"v3\"), (\"v3\", \"v1\")]\n",
      "print is_bipartite(edges2)"
     ],
     "language": "python",
     "metadata": {},
     "outputs": [
      {
       "output_type": "stream",
       "stream": "stdout",
       "text": [
        "False\n"
       ]
      }
     ],
     "prompt_number": 83
    },
    {
     "cell_type": "code",
     "collapsed": false,
     "input": [
      "print is_bipartite([(\"v1\", \"v2\")])"
     ],
     "language": "python",
     "metadata": {},
     "outputs": [
      {
       "output_type": "stream",
       "stream": "stdout",
       "text": [
        "True\n"
       ]
      }
     ],
     "prompt_number": 84
    },
    {
     "cell_type": "code",
     "collapsed": false,
     "input": [
      "print is_bipartite([(\"v1\", \"v2\"), (\"v2\", \"v1\"), (\"v2\", \"v3\"), (\"v1\", \"v3\")])"
     ],
     "language": "python",
     "metadata": {},
     "outputs": [
      {
       "output_type": "stream",
       "stream": "stdout",
       "text": [
        "False\n"
       ]
      }
     ],
     "prompt_number": 89
    },
    {
     "cell_type": "code",
     "collapsed": false,
     "input": [],
     "language": "python",
     "metadata": {},
     "outputs": []
    }
   ],
   "metadata": {}
  }
 ]
}