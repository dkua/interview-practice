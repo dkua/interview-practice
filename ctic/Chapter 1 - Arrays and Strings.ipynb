{
 "metadata": {
  "name": ""
 },
 "nbformat": 3,
 "nbformat_minor": 0,
 "worksheets": [
  {
   "cells": [
    {
     "cell_type": "markdown",
     "metadata": {},
     "source": [
      "**1.1**\n",
      "\n",
      "Implement an algorithm to determine if a string has all unique characters."
     ]
    },
    {
     "cell_type": "code",
     "collapsed": false,
     "input": [
      "def is_unique_string(string):\n",
      "    chars_seen = set()\n",
      "    for char in string:\n",
      "        if char in chars_seen:\n",
      "            return False\n",
      "        chars_seen.add(char)\n",
      "    return True"
     ],
     "language": "python",
     "metadata": {},
     "outputs": [],
     "prompt_number": 3
    },
    {
     "cell_type": "code",
     "collapsed": false,
     "input": [
      "unique_string = \"abcdefghi\"\n",
      "usual_string = \"abcdeefg\"\n",
      "print(is_unique_string(unique_string))\n",
      "print(is_unique_string(usual_string))"
     ],
     "language": "python",
     "metadata": {},
     "outputs": [
      {
       "output_type": "stream",
       "stream": "stdout",
       "text": [
        "True\n",
        "False\n"
       ]
      }
     ],
     "prompt_number": 9
    },
    {
     "cell_type": "markdown",
     "metadata": {},
     "source": [
      "**1.2**\n",
      "\n",
      "Implement a function void reverse(char\\* str) in C or C++ which reverses a null-terminated string.\n",
      "\n",
      "*Note: Interviewing using Python so going to do this as a regular reverse a string function*"
     ]
    },
    {
     "cell_type": "code",
     "collapsed": false,
     "input": [
      "def reverse_string(string):\n",
      "    r_string = \"\"\n",
      "    for i in xrange(len(string)-1, -1, -1):\n",
      "        r_string += string[i]\n",
      "    return r_string"
     ],
     "language": "python",
     "metadata": {},
     "outputs": [],
     "prompt_number": 27
    },
    {
     "cell_type": "code",
     "collapsed": false,
     "input": [
      "string = \"abcdef\"\n",
      "print(reverse_string(string))"
     ],
     "language": "python",
     "metadata": {},
     "outputs": [
      {
       "output_type": "stream",
       "stream": "stdout",
       "text": [
        "fedcba\n"
       ]
      }
     ],
     "prompt_number": 28
    },
    {
     "cell_type": "markdown",
     "metadata": {},
     "source": [
      "**1.3**\n",
      "\n",
      "Given two strings, write a method to decide if one is a permutation of the other."
     ]
    },
    {
     "cell_type": "code",
     "collapsed": false,
     "input": [
      "def is_permutation(string1, string2):\n",
      "    if len(string1) != len(string2):\n",
      "        return False\n",
      "    if sorted(string1) == sorted(string2):\n",
      "        return True"
     ],
     "language": "python",
     "metadata": {},
     "outputs": [],
     "prompt_number": 31
    },
    {
     "cell_type": "code",
     "collapsed": false,
     "input": [
      "string1 = \"abc\"\n",
      "string2 = \"bca\"\n",
      "string3 = \"abcd\"\n",
      "print(is_permutation(string1, string2))\n",
      "print(is_permutation(string1, string3))"
     ],
     "language": "python",
     "metadata": {},
     "outputs": [
      {
       "output_type": "stream",
       "stream": "stdout",
       "text": [
        "True\n",
        "False\n"
       ]
      }
     ],
     "prompt_number": 33
    },
    {
     "cell_type": "markdown",
     "metadata": {},
     "source": [
      "**1.4**\n",
      "\n",
      "Write a method to replace all spaces in a string with '%20'.\n",
      "You may assume that the string has sufficient space at the end of the string to hold the additional characters,\n",
      "and that you are given the \"true\" length of the string.\n",
      "(Note: if implementing in Java, please use a character array so that you can perform this operation in place.)\n",
      "\n",
      "*EXAMPLE*\n",
      "\n",
      "Input: \"Mr John Smith\"\n",
      "    \n",
      "Output: \"Mr%20John%20Smith\""
     ]
    },
    {
     "cell_type": "code",
     "collapsed": false,
     "input": [
      "def replace_spaces(string):\n",
      "    for i in xrange(len(string)):\n",
      "        if string[i] == \" \":\n",
      "            string = string[:i] + \"%20\" + string[i+1:]\n",
      "    return string"
     ],
     "language": "python",
     "metadata": {},
     "outputs": [],
     "prompt_number": 47
    },
    {
     "cell_type": "code",
     "collapsed": false,
     "input": [
      "string = '\"Mr John Smith\\t\"'\n",
      "print(string)\n",
      "print(replace_spaces(string))"
     ],
     "language": "python",
     "metadata": {},
     "outputs": [
      {
       "output_type": "stream",
       "stream": "stdout",
       "text": [
        "\"Mr John Smith\t\"\n",
        "\"Mr%20John%20Smith\t\"\n"
       ]
      }
     ],
     "prompt_number": 48
    },
    {
     "cell_type": "markdown",
     "metadata": {},
     "source": [
      "**1.5**\n",
      "\n",
      "Implement a method to perform basic string compression using the counts of repeated characters.\n",
      "For example, the string \"aabcccccaaa\" would become \"a2b2c5a3\".\n",
      "If the *compressed* string would not be smaller than the original string, your method should return the original string."
     ]
    },
    {
     "cell_type": "code",
     "collapsed": false,
     "input": [
      "def compress_string(string):\n",
      "    new_string = \"\"\n",
      "    current = string[0]\n",
      "    count = 0\n",
      "    for char in string:\n",
      "        if char == current:\n",
      "            count += 1\n",
      "        else:\n",
      "            new_string += \"{0}{1}\".format(current, count)\n",
      "            current = char\n",
      "            count = 1\n",
      "    new_string += \"{0}{1}\".format(current, count)\n",
      "    if len(new_string) >= len(string):\n",
      "        return string\n",
      "    return new_string"
     ],
     "language": "python",
     "metadata": {},
     "outputs": [],
     "prompt_number": 91
    },
    {
     "cell_type": "code",
     "collapsed": false,
     "input": [
      "print(compress_string(\"aabbcccccaaa\"))\n",
      "print(compress_string(\"a\"))"
     ],
     "language": "python",
     "metadata": {},
     "outputs": [
      {
       "output_type": "stream",
       "stream": "stdout",
       "text": [
        "a2b2c5a3\n",
        "a\n"
       ]
      }
     ],
     "prompt_number": 93
    },
    {
     "cell_type": "code",
     "collapsed": false,
     "input": [],
     "language": "python",
     "metadata": {},
     "outputs": []
    }
   ],
   "metadata": {}
  }
 ]
}